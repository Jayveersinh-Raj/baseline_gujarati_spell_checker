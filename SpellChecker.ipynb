{
  "nbformat": 4,
  "nbformat_minor": 0,
  "metadata": {
    "colab": {
      "provenance": [],
      "authorship_tag": "ABX9TyPgndssArsSDBYgIk0+NLpt",
      "include_colab_link": true
    },
    "kernelspec": {
      "name": "python3",
      "display_name": "Python 3"
    },
    "language_info": {
      "name": "python"
    }
  },
  "cells": [
    {
      "cell_type": "markdown",
      "metadata": {
        "id": "view-in-github",
        "colab_type": "text"
      },
      "source": [
        "<a href=\"https://colab.research.google.com/github/Jayveersinh-Raj/baseline_gujarati_spell_checker/blob/main/SpellChecker.ipynb\" target=\"_parent\"><img src=\"https://colab.research.google.com/assets/colab-badge.svg\" alt=\"Open In Colab\"/></a>"
      ]
    },
    {
      "cell_type": "code",
      "execution_count": null,
      "metadata": {
        "id": "SgPdWNVIhFZE"
      },
      "outputs": [],
      "source": [
        "# read it in to inspect it\n",
        "with open('/content/Gujarati.txt', 'r', encoding='utf-8') as f:\n",
        "    text = f.read()"
      ]
    },
    {
      "cell_type": "code",
      "source": [
        "print(\"length of dataset in characters: \", len(text))"
      ],
      "metadata": {
        "colab": {
          "base_uri": "https://localhost:8080/"
        },
        "id": "bG6Hx18mhLSV",
        "outputId": "1b994bc9-9d0e-467c-cba7-dd09a417a1c4"
      },
      "execution_count": null,
      "outputs": [
        {
          "output_type": "stream",
          "name": "stdout",
          "text": [
            "length of dataset in characters:  1173178\n"
          ]
        }
      ]
    },
    {
      "cell_type": "code",
      "source": [
        "# let's look at the first 1000 characters\n",
        "print(text[:1000])"
      ],
      "metadata": {
        "colab": {
          "base_uri": "https://localhost:8080/"
        },
        "id": "h2D4vnNchPCQ",
        "outputId": "72e226ad-cb93-4fc0-8070-dd40e041ec13"
      },
      "execution_count": null,
      "outputs": [
        {
          "output_type": "stream",
          "name": "stdout",
          "text": [
            "નરસિંહ મહેતા ગુજરાતી ભાષાના પ્રથમ કવિ હતા આથી તેઓ આદ્ય કવિ અથવા આદિ કવિ કહેવાય છે તેમણે લખેલી રચનાઓમાં ભજન વૈષ્ણવ જન તો ખૂબ જાણીતું છે જે મહાત્મા ગાંધીનું ખૂબ પ્રિય હતું આ ભજનમાં સારા માનવીના ગુણો મૂલ્યો નું સરસ રીતે વર્ણન કરેલું છે નરસિંહ મહેતાનો જન્મ ભાવનગર જિલ્લાનાં તળાજા ગામમાં ઈ સ માં નાગર બ્રાહ્મણ શ્રી કૃષ્ણદાસ મહેતાને ત્યાં થયો હતો તેઓ પછી જુનાગઢ ત્યારનું જુર્ણદુર્ગ ખાતે સ્થાયી થયા હતા નાની ઉંમરે તેમણે માતા પિતાને ગુમાવ્યા હતા તેઓ વર્ષની વય સુધી બોલી શકતા નહોતા તેમનો ઉછેર તેમની દાદી જયગૌરીએ કર્યો હતો તેમના લગ્ન માં માણેકબાઈ સાથે થયા તેઓ અને તેમની પત્નિ તેમના ભાઈ બંસીધરને ત્યાં જુનાગઢમાં રહેતા હતા તેમને શામળદાસ નામનો પુત્ર અને કુંવરબાઈ નામની પુત્રી હતી નરસિંહ મહેતાએ શામળદાસના વિવાહ કુંવરબાઈનુ મામેરુ નરસિંહ મહેતાના બાપાનું શ્રાદ્ધ હુંડી ઝારીનાં પદ સુદામા ચરિત્ર દાણલીલા ચાતુરીઓ જીવન ઝરમર વગેરે થી વધારે પદો રચ્યા છે તેમણે રચેલા સાહિત્યમાં કૃષ્ણ ભક્તિના દર્શન થાય છે ગુજરાતી ભાષાના શ્રેષ્ઠ કવિઓને તેમની યાદમાં નરસિંહ મહેતા એવોર્ડ આપવામાં આવે છે જેની શરૂઆત ઈ સ થી થઈ છે આ એવોર્ડ આદ્યકવિ \n"
          ]
        }
      ]
    },
    {
      "cell_type": "code",
      "source": [
        "# here are all the unique characters that occur in this text\n",
        "chars = sorted(list(set(text)))\n",
        "vocab_size = len(chars)\n",
        "print(''.join(chars))\n",
        "print(vocab_size)"
      ],
      "metadata": {
        "colab": {
          "base_uri": "https://localhost:8080/"
        },
        "id": "i452Hu3LhSbx",
        "outputId": "9dc14e7f-53f9-445a-f8e5-0cb67a0c4f6e"
      },
      "execution_count": null,
      "outputs": [
        {
          "output_type": "stream",
          "name": "stdout",
          "text": [
            "\n",
            " ઁંઃઅઆઇઈઉઊઋઍએઐઑઓઔકખગઘઙચછજઝઞટઠડઢણતથદધનપફબભમયરલળવશષસહ઼ાિીુૂૃૄૅેૈૉોૌ્ૐૠ૤\n",
            "70\n"
          ]
        }
      ]
    },
    {
      "cell_type": "code",
      "source": [
        "import re\n",
        "from collections import Counter\n",
        "\n",
        "def words(text): return re.findall(r'\\w+', text.lower())\n",
        "\n",
        "WORDS = Counter(words(open('/content/Gujarati.txt').read()))\n",
        "\n",
        "def P(word, N=sum(WORDS.values())): \n",
        "    \"Probability of `word`.\"\n",
        "    return WORDS[word] / N\n",
        "\n",
        "def correction(word): \n",
        "    \"Most probable spelling correction for word.\"\n",
        "    return max(candidates(word), key=P)\n",
        "\n",
        "def candidates(word): \n",
        "    \"Generate possible spelling corrections for word.\"\n",
        "    return (known([word]) or known(edits1(word)) or known(edits2(word)) or [word])\n",
        "\n",
        "def known(words): \n",
        "    \"The subset of `words` that appear in the dictionary of WORDS.\"\n",
        "    return set(w for w in words if w in WORDS)\n",
        "\n",
        "def edits1(word):\n",
        "    \"All edits that are one edit away from `word`.\" \n",
        "    letters    = 'ૌૈાીૂબહગદજડ‍ોે્િુપરકતચટ?ૉૅંૃમનવલસયઔઐઆઈઊભઙઘધઝઢઞત્રઠછથખૠફઉઇઅએઓઑઍઁઋણષૄળશજ્ઞક્ષશ્ર'\n",
        "    splits     = [(word[:i], word[i:])    for i in range(len(word) + 1)]\n",
        "    deletes    = [L + R[1:]               for L, R in splits if R]\n",
        "    transposes = [L + R[1] + R[0] + R[2:] for L, R in splits if len(R)>1]\n",
        "    replaces   = [L + c + R[1:]           for L, R in splits if R for c in letters]\n",
        "    inserts    = [L + c + R               for L, R in splits for c in letters]\n",
        "    return set(deletes + transposes + replaces + inserts)\n",
        "\n",
        "def edits2(word): \n",
        "    \"All edits that are two edits away from `word`.\"\n",
        "    return (e2 for e1 in edits1(word) for e2 in edits1(e1))"
      ],
      "metadata": {
        "id": "teeC32aCo8xz"
      },
      "execution_count": 4,
      "outputs": []
    },
    {
      "cell_type": "code",
      "source": [
        "correction('સરીર')"
      ],
      "metadata": {
        "colab": {
          "base_uri": "https://localhost:8080/",
          "height": 35
        },
        "id": "m8FxGuYupZWX",
        "outputId": "63462371-18db-4ea6-96be-e8304a949bb3"
      },
      "execution_count": 8,
      "outputs": [
        {
          "output_type": "execute_result",
          "data": {
            "text/plain": [
              "'સરફર'"
            ],
            "application/vnd.google.colaboratory.intrinsic+json": {
              "type": "string"
            }
          },
          "metadata": {},
          "execution_count": 8
        }
      ]
    }
  ]
}